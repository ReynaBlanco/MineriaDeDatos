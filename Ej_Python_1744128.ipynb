{
 "cells": [
  {
   "cell_type": "markdown",
   "id": "checked-living",
   "metadata": {},
   "source": [
    "\n",
    "Ejercicio 1:\n",
    "Realiza una variable con tu matricula y realiza una secuencia de imprimir con tu nombre y tu matricula concatenados."
   ]
  },
  {
   "cell_type": "code",
   "execution_count": 1,
   "id": "pacific-sullivan",
   "metadata": {},
   "outputs": [
    {
     "name": "stdout",
     "output_type": "stream",
     "text": [
      "Reyna Yarelli Blanco Gonzalez 1744128\n"
     ]
    }
   ],
   "source": [
    "nom = \"Reyna Yarelli Blanco Gonzalez\"\n",
    "mat = 1744128\n",
    "print(nom,mat)"
   ]
  },
  {
   "cell_type": "markdown",
   "id": "entire-mercury",
   "metadata": {},
   "source": [
    "Ejercicio 2:\n",
    "Pidiendo el input del usuario pide dos números y crea una pequeña calculadora con los operadores básicos de suma, resta, multiplicación, división, y exponente."
   ]
  },
  {
   "cell_type": "markdown",
   "id": "alpha-trace",
   "metadata": {},
   "source": [
    "\n"
   ]
  },
  {
   "cell_type": "code",
   "execution_count": 2,
   "id": "guided-exclusive",
   "metadata": {},
   "outputs": [
    {
     "name": "stdout",
     "output_type": "stream",
     "text": [
      "\n",
      "CALCULADORA BÁSICA\n",
      "Inserta un número: 12\n",
      "Inserta un número: 45\n",
      "Suma:  57\n",
      "Resta:  -33\n",
      "Multiplicación:  540\n",
      "División:  0.26666666666666666\n",
      "Exponente:  3657261988008837196714082302655030834027437228032\n"
     ]
    }
   ],
   "source": [
    "print(\"\\nCALCULADORA BÁSICA\")\n",
    "ValorA= int(input(\"Ingresa un número: \"))\n",
    "ValorB=int(input(\"Ingresa un número: \"))\n",
    "print(\"Suma: \", ValorA+ValorB)\n",
    "print(\"Resta: \", ValorA -ValorB)\n",
    "print (\"Multiplicación: \", ValorA*ValorB)\n",
    "print(\"División: \", ValorA/ValorB)\n",
    "print(\"Exponente: \", ValorA**ValorB)"
   ]
  },
  {
   "cell_type": "markdown",
   "id": "suited-camcorder",
   "metadata": {},
   "source": [
    "Ejercicio 3:\n",
    "Con loop while o for, realiza una lista de 10 numeros multiplos de 3, y después realiza una función de loop que sume todos los números dentro del arreglo.\n"
   ]
  },
  {
   "cell_type": "code",
   "execution_count": 19,
   "id": "ceramic-malpractice",
   "metadata": {},
   "outputs": [
    {
     "name": "stdout",
     "output_type": "stream",
     "text": [
      "La lista es:  [3, 6, 9, 12, 15, 18, 21, 24, 27, 30]\n",
      "La suma del arreglo es:  165\n"
     ]
    }
   ],
   "source": [
    "\n",
    " \n",
    "lista = []\n",
    "for i in range(0,10,1):\n",
    "    lista.append((i+1)*3)\n",
    "\n",
    "print(\"La lista es: \",lista)\n",
    "s=0\n",
    "for i in range(0,10,1):\n",
    "    s=s+lista[i]\n",
    "    \n",
    "print(\"La suma del arreglo es: \",s)\n",
    "\n",
    "  \n",
    "       "
   ]
  },
  {
   "cell_type": "markdown",
   "id": "original-season",
   "metadata": {},
   "source": [
    "Ejercicio 4\n",
    "Con una función de if else, revisar si un número es par o es impar.\n",
    "Con una función de if else, revisar si un número es primo o no.\n"
   ]
  },
  {
   "cell_type": "code",
   "execution_count": 16,
   "id": "successful-worker",
   "metadata": {},
   "outputs": [
    {
     "name": "stdout",
     "output_type": "stream",
     "text": [
      "Ingresa un numero: 12\n",
      "El numero tecleado  12 es un numero par\n",
      "El numero tecleado 12 no es primo\n"
     ]
    }
   ],
   "source": [
    "  num = int(input(\"Ingresa un numero: \"))\n",
    "if num%2==0:\n",
    "    print(\"El numero tecleado \",num,\"es un numero par\")\n",
    "else:\n",
    "    print(\"El numero tecleado \",num,\"es un numero impar\")\n",
    "\n",
    "c=0\n",
    "primo = 0\n",
    "for i in range(1,num+1):\n",
    "    if (num%i)==0:\n",
    "        c=c+1\n",
    "    if c>=3:\n",
    "        primo= 1\n",
    "        break\n",
    "        \n",
    "if c==2 or primo==0:\n",
    "    print(\"El numero tecleado\", num,\" es primo\")\n",
    "else:\n",
    "    print(\"El numero tecleado\", num,\"no es primo\")\n",
    "\n",
    "       "
   ]
  },
  {
   "cell_type": "markdown",
   "id": "protecting-majority",
   "metadata": {},
   "source": [
    "Ejercicio 5\n",
    "Utilizando diferentes clases en python, crea una calculadora con los operadores básicos de suma, resta, multiplicación, división, y exponente.\n",
    "\n",
    "Funciones matemáticas en la librería de math en python:"
   ]
  },
  {
   "cell_type": "code",
   "execution_count": 20,
   "id": "complicated-mambo",
   "metadata": {},
   "outputs": [
    {
     "name": "stdout",
     "output_type": "stream",
     "text": [
      "\n",
      "    ¿Qué quieres hacer?\n",
      "    1) Sumar los números\n",
      "    2) Restar los números\n",
      "    3) Multiplicar los números\n",
      "    4) Dividir los números\n",
      "    5) El exponente de los números \n",
      "    6) Salir\n",
      "    \n",
      "Introduce una opción: 1\n",
      "Ingresa el primer número: 1\n",
      "Ingresa el segundo número: 45\n",
      "El resultado de la suma de  1 y 45 es igual a: 46\n",
      "\n",
      "    ¿Qué quieres hacer?\n",
      "    1) Sumar los números\n",
      "    2) Restar los números\n",
      "    3) Multiplicar los números\n",
      "    4) Dividir los números\n",
      "    5) El exponente de los números \n",
      "    6) Salir\n",
      "    \n",
      "Introduce una opción: 6\n"
     ]
    }
   ],
   "source": [
    "class calculadora:\n",
    "    def sumar(self, x, y):\n",
    "        print ('El resultado de la suma de  ' +str(x) + ' y '+str(y)+ ' es igual a: '+str((x+y)) )\n",
    "    def restar(self, x, y):\n",
    "        print ('El resultado de la resta de  '+str(x) + ' y '+str(y)+ ' es igual a: '+str((x-y)) )\n",
    "    def multiplicar(self, x, y):\n",
    "        print ('El resultado de la multiplicar de '+str(x) + ' y '+str(y)+ ' es igual a: '+str((x*y)) )\n",
    "    def dividir(self, x, y):\n",
    "        print ('El resultado de dividir  '+str(x) + ' y '+str(y)+ ' es igual a: '+str((x/y)) )\n",
    "    def exponente(self, x, y):\n",
    "        print ('El resultado de elevar a una potencia  '+str(x) + ' y' +str(y)+ ' es igual a: '+str((x**y)) )\n",
    "\n",
    "calc= calculadora()\n",
    "def menu():\n",
    "    print(\"\"\"\n",
    "    ¿Qué quieres hacer?\n",
    "    1) Sumar los números\n",
    "    2) Restar los números\n",
    "    3) Multiplicar los números\n",
    "    4) Dividir los números\n",
    "    5) El exponente de los números \n",
    "    6) Salir\n",
    "    \"\"\")\n",
    "    return int(input('Introduce una opción: '))\n",
    "\n",
    "while(True):\n",
    "    opción= menu()\n",
    "    if(opción==6):\n",
    "        break\n",
    "    else:\n",
    "        num1= int(input('Ingresa el primer número: '))\n",
    "        num2= int(input('Ingresa el segundo número: '))\n",
    "        \n",
    "        if(opción==1):\n",
    "            calc.sumar(num1, num2)\n",
    "        elif(opción==2):\n",
    "            calc.restar(num1, num2)\n",
    "        elif(opción==3):\n",
    "            calc.multiplicar(num1, num2)\n",
    "        elif(opción==4):\n",
    "            calc.dividir(num1, num2)\n",
    "        elif(opción==5):\n",
    "            calc.exponente(num1, num2)\n",
    "        else:\n",
    "            print('Opción no valida')\n",
    "            "
   ]
  },
  {
   "cell_type": "markdown",
   "id": "vocational-scope",
   "metadata": {},
   "source": [
    "Ejercicios con estructuras básicas de python.\n",
    "Tuplas\n",
    "Crear una variable flotante, integer, boleana y compleja e imprimir el tipo de variable que es.\n",
    "\n",
    "Crear una tupla con valores enteros imprimir el primer y ultimo valor.\n",
    "\n",
    "Añadir 3 valores de string a la tupla.\n",
    "\n",
    "Verificar si una variable existe dentro de la tupla."
   ]
  },
  {
   "cell_type": "code",
   "execution_count": 26,
   "id": "elder-obligation",
   "metadata": {},
   "outputs": [
    {
     "ename": "SyntaxError",
     "evalue": "invalid syntax (<ipython-input-26-b159dba109f4>, line 8)",
     "output_type": "error",
     "traceback": [
      "\u001b[1;36m  File \u001b[1;32m\"<ipython-input-26-b159dba109f4>\"\u001b[1;36m, line \u001b[1;32m8\u001b[0m\n\u001b[1;33m    print(\"El numero \",comp,\"es de tipo\",type(comp))\u001b[0m\n\u001b[1;37m    ^\u001b[0m\n\u001b[1;31mSyntaxError\u001b[0m\u001b[1;31m:\u001b[0m invalid syntax\n"
     ]
    }
   ],
   "source": [
    "flotante=2.874\n",
    "integer=7\n",
    "boleana=False\n",
    "comp=2-8j\n",
    "print(\"El numero \",flotante,\"es de tipo\",type(flotante))\n",
    "print(\"El numero \",integer,\"es de tipo\",type(integer))\n",
    "print(\"El numero \",boleana,\"es de tipo\",type(boleana)\n",
    "print(\"El numero \",comp,\"es de tipo\",type(comp))"
   ]
  },
  {
   "cell_type": "code",
   "execution_count": 28,
   "id": "attempted-microphone",
   "metadata": {},
   "outputs": [
    {
     "name": "stdout",
     "output_type": "stream",
     "text": [
      "Primer valor es  2\n",
      "El ultimo valor es  10\n"
     ]
    }
   ],
   "source": [
    "i=(2,4,6,8,10)\n",
    "print(\"Primer valor es \",i[0])\n",
    "print(\"El ultimo valor es \",i[-1])"
   ]
  },
  {
   "cell_type": "code",
   "execution_count": 29,
   "id": "driving-steel",
   "metadata": {},
   "outputs": [
    {
     "name": "stdout",
     "output_type": "stream",
     "text": [
      "(2, 4, 6, 8, 10, 'Rosa', 'Blanco', 'Azul')\n"
     ]
    }
   ],
   "source": [
    "\n",
    "i=i+(\"Rosa\",\"Blanco\",\"Azul\")\n",
    "print(i)"
   ]
  },
  {
   "cell_type": "code",
   "execution_count": 30,
   "id": "northern-relevance",
   "metadata": {},
   "outputs": [
    {
     "data": {
      "text/plain": [
       "False"
      ]
     },
     "execution_count": 30,
     "metadata": {},
     "output_type": "execute_result"
    }
   ],
   "source": [
    "\"Yarelli\" in i\n"
   ]
  },
  {
   "cell_type": "markdown",
   "id": "violent-ottawa",
   "metadata": {},
   "source": [
    "Listas\n",
    "Crear una lista con 40 elementos aleatorios enteros.\n",
    "\n",
    "Con una funcion (def) crear dos listas nuevas a partir de la lista creada por numeros aleatorios, en la cual en una esten los elementos pares, y en la otra los elementos impares.\n",
    "\n",
    "Crear dos variables con la longitud de ambas listas nuevas e imprimir las variables.\n",
    "\n",
    "Ordenar los elementos de la lista par de mayor a menor, y los de la lista impar de menor a mayor.\n",
    "\n",
    "Utilizar al menos cuatro de las funciones de listas en python en la lista original de 40 elementos."
   ]
  },
  {
   "cell_type": "code",
   "execution_count": 31,
   "id": "photographic-investigation",
   "metadata": {},
   "outputs": [
    {
     "name": "stdout",
     "output_type": "stream",
     "text": [
      "[901, 688, 1048, 1730, 1330, 376, 234, 1337, 1910, 1571, 806, 732, 253, 1456, 204, 1060, 1912, 1969, 574, 889, 1097, 1086, 613, 401, 874, 569, 188, 1585, 472, 704, 65, 1878, 1436, 719, 1162, 1709, 177, 410, 1402, 277]\n"
     ]
    }
   ],
   "source": [
    "from random import randint\n",
    "list=[randint(1,2000) for i in range(40)]\n",
    "\n",
    "print(list)"
   ]
  },
  {
   "cell_type": "code",
   "execution_count": 35,
   "id": "parental-victor",
   "metadata": {},
   "outputs": [
    {
     "name": "stdout",
     "output_type": "stream",
     "text": [
      "Numeros pares:  [6, 12, 18, 24, 30]\n",
      "Numeros impares:  [3, 9, 15, 21, 27]\n"
     ]
    }
   ],
   "source": [
    "  def peimp(lista):\n",
    "    imp=[]\n",
    "    p=[]\n",
    "    for i in range(len(lista)):\n",
    "        if lista[i]%2==0:\n",
    "            p.append(lista[i])\n",
    "        else:\n",
    "            imp.append(lista[i])\n",
    "        \n",
    "    return p,imp\n",
    "\n",
    "p,imp=peimp(lista)\n",
    "print(\"Numeros pares: \", p)\n",
    "print(\"Numeros impares: \",imp)"
   ]
  },
  {
   "cell_type": "code",
   "execution_count": 36,
   "id": "choice-nicaragua",
   "metadata": {},
   "outputs": [
    {
     "name": "stdout",
     "output_type": "stream",
     "text": [
      "La longitud de los pares es:  5\n",
      "La longitud de los impares es:  5\n"
     ]
    }
   ],
   "source": [
    "\n",
    "longitudp=len(p)\n",
    "longitudimp=len(imp)\n",
    "print(\"La longitud de los pares es: \",longitudp)\n",
    "print(\"La longitud de los impares es: \",longitudimp)"
   ]
  },
  {
   "cell_type": "code",
   "execution_count": 37,
   "id": "unique-softball",
   "metadata": {},
   "outputs": [
    {
     "name": "stdout",
     "output_type": "stream",
     "text": [
      "Pares ordenados de mayor a menor:  [30, 24, 18, 12, 6]\n",
      "Pares ordenados de menor a mayor:  [3, 9, 15, 21, 27]\n"
     ]
    }
   ],
   "source": [
    "p.sort(reverse=True)\n",
    "imp.sort()\n",
    "print(\"Pares ordenados de mayor a menor: \",p)\n",
    "print(\"Pares ordenados de menor a mayor: \",imp)"
   ]
  },
  {
   "cell_type": "markdown",
   "id": "international-representative",
   "metadata": {},
   "source": [
    "Diccionarios\n",
    "Crear un diccionario de 6 personas que conozcas con su primer nombre y su edad.\n",
    "\n",
    "Crear una lista con los valores de la edad y reacomodar la lista de menor a mayor valor.\n",
    "\n",
    "Usando el diccionario y un loop, imprimir solo los nombres.\n",
    "\n",
    "Añadir dos personas nuevas a tu diccionario, incluyendo edad."
   ]
  },
  {
   "cell_type": "code",
   "execution_count": 38,
   "id": "alike-cream",
   "metadata": {},
   "outputs": [
    {
     "name": "stdout",
     "output_type": "stream",
     "text": [
      "{'Reyna': 22, 'Gibran': 23, 'Javier': 21, 'Diana': 47, 'Victor': 26, 'Sandra': 51}\n"
     ]
    }
   ],
   "source": [
    "a={\"Reyna\":22,\"Gibran\":23,\"Javier\":21,\"Diana\":47,\"Victor\":26,\"Sandra\":51}\n",
    "print(a)"
   ]
  },
  {
   "cell_type": "code",
   "execution_count": 41,
   "id": "weighted-desktop",
   "metadata": {},
   "outputs": [
    {
     "name": "stdout",
     "output_type": "stream",
     "text": [
      "Reyna\n",
      "Gibran\n",
      "Javier\n",
      "Diana\n",
      "Victor\n",
      "Sandra\n"
     ]
    }
   ],
   "source": [
    "\n",
    "for i in a:\n",
    "    print(i)"
   ]
  },
  {
   "cell_type": "code",
   "execution_count": 42,
   "id": "informational-estimate",
   "metadata": {},
   "outputs": [
    {
     "name": "stdout",
     "output_type": "stream",
     "text": [
      "{'Reyna': 22, 'Gibran': 23, 'Javier': 21, 'Diana': 47, 'Victor': 26, 'Sandra': 51, 'David': 28, 'Edgar': 25}\n"
     ]
    }
   ],
   "source": [
    "a[\"David\"]=28\n",
    "a[\"Edgar\"]=25\n",
    "print(a)"
   ]
  },
  {
   "cell_type": "markdown",
   "id": "treated-resident",
   "metadata": {},
   "source": [
    "Sets\n",
    "Crea un set con 100 numeros aleatorios enteros del 1 al 25.\n",
    "\n",
    "Comprueba la longitud de tu set.\n",
    "\n",
    "Crea una lista de 5 numeros aleatorios del 1 al 10 y comprueba si cada valor aparece en el set inicial."
   ]
  },
  {
   "cell_type": "code",
   "execution_count": 43,
   "id": "going-consumer",
   "metadata": {},
   "outputs": [
    {
     "name": "stdout",
     "output_type": "stream",
     "text": [
      "[3, 6, 9, 12, 15, 18, 21, 24, 27, 30]\n"
     ]
    }
   ],
   "source": [
    "from random import randint\n",
    "f=[randint(1,25) for i in range(100)]\n",
    "\n",
    "print(lista)"
   ]
  },
  {
   "cell_type": "code",
   "execution_count": 44,
   "id": "sweet-slovakia",
   "metadata": {},
   "outputs": [
    {
     "name": "stdout",
     "output_type": "stream",
     "text": [
      "100\n"
     ]
    }
   ],
   "source": [
    "print(len(f))"
   ]
  },
  {
   "cell_type": "code",
   "execution_count": null,
   "id": "departmental-spoke",
   "metadata": {},
   "outputs": [],
   "source": []
  }
 ],
 "metadata": {
  "kernelspec": {
   "display_name": "Python 3",
   "language": "python",
   "name": "python3"
  },
  "language_info": {
   "codemirror_mode": {
    "name": "ipython",
    "version": 3
   },
   "file_extension": ".py",
   "mimetype": "text/x-python",
   "name": "python",
   "nbconvert_exporter": "python",
   "pygments_lexer": "ipython3",
   "version": "3.8.5"
  }
 },
 "nbformat": 4,
 "nbformat_minor": 5
}
